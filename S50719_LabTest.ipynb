{
 "cells": [
  {
   "cell_type": "code",
   "execution_count": 1,
   "metadata": {},
   "outputs": [
    {
     "name": "stdout",
     "output_type": "stream",
     "text": [
      "Enter a number?24\n",
      "There are  2 bits with value 1\n",
      "The binary format of this number is  0b11000\n"
     ]
    }
   ],
   "source": [
    "number = int(input(\"Enter a number?\"))\n",
    "\n",
    "def a():\n",
    "        bit = 0\n",
    "        count = 0\n",
    "        while (1 << bit) <= number:\n",
    "            if ((1 << bit) & number) != 0:\n",
    "                count = count + 1\n",
    "            bit = bit + 1\n",
    "        return count\n",
    "    \n",
    "def b():\n",
    "        x = bin(number)\n",
    "        return x\n",
    "        \n",
    "\n",
    "print(\"There are \",a(), \"bits with value 1\")\n",
    "print(\"The binary format of this number is \",b())"
   ]
  },
  {
   "cell_type": "code",
   "execution_count": 2,
   "metadata": {},
   "outputs": [
    {
     "name": "stdout",
     "output_type": "stream",
     "text": [
      "There are 6 words in the string.\n",
      "The most frequent character is a which appeared 6 times\n"
     ]
    }
   ],
   "source": [
    "class MyString:\n",
    "\n",
    "    def __init__(self, myString):\n",
    "        self.__myString = myString\n",
    "\n",
    "    def countWord(self):\n",
    "        count = len(self.__myString.split())\n",
    "        return count\n",
    "\n",
    "    def findMostFrequentChar(self):\n",
    "        counter = {}\n",
    "        new_string = list(filter(lambda x: 'a' >= x <= 'z', self.__myString.lower()))\n",
    "        for char in new_string:\n",
    "\n",
    "            if char in counter:\n",
    "                counter[char] += 1\n",
    "            else:\n",
    "                counter[char] = 1\n",
    "\n",
    "        key, value = max(counter.items(), key=lambda x:x[1])\n",
    "        return value, key\n",
    "\n",
    "\n",
    "def main():\n",
    "    aString = MyString(\"an apple is not a tomatoAa\")\n",
    "    print(\"There are\", aString.countWord(), \"words in the string.\")\n",
    "\n",
    "    count, letter = aString.findMostFrequentChar()\n",
    "    print(\"The most frequent character is\", letter, \"which appeared\", count, \"times\")\n",
    "\n",
    "main()\n"
   ]
  },
  {
   "cell_type": "code",
   "execution_count": 4,
   "metadata": {},
   "outputs": [
    {
     "name": "stdout",
     "output_type": "stream",
     "text": [
      "There are  4  words in this text\n"
     ]
    }
   ],
   "source": [
    "string = \"I have Python exam\"\n",
    "\n",
    "def a():\n",
    "        return len(string.split(' '))\n",
    "\n",
    "print(\"There are \",a(),\" words in this text\")"
   ]
  },
  {
   "cell_type": "code",
   "execution_count": 5,
   "metadata": {},
   "outputs": [
    {
     "name": "stdout",
     "output_type": "stream",
     "text": [
      "Arguments are:60\n"
     ]
    }
   ],
   "source": [
    "#Question 4B\n",
    "def multiply_by_three(x):\n",
    "    return x*3\n",
    "\n",
    "def multiply_output(ambt):\n",
    "    return 2*ambt\n",
    "\n",
    "def print_arguments(args):\n",
    "    print (f'Arguments are:{args}')\n",
    "    \n",
    "augmented_multiply_by_three = (multiply_by_three(10))\n",
    "x=augmented_multiply_by_three\n",
    "augmented_output=print_arguments(multiply_output(x))\n",
    "agmbt=augmented_output"
   ]
  },
  {
   "cell_type": "code",
   "execution_count": 6,
   "metadata": {},
   "outputs": [
    {
     "name": "stdout",
     "output_type": "stream",
     "text": [
      "Arguments are:14\n"
     ]
    }
   ],
   "source": [
    "#Question 4C\n",
    "def add_numbers(a, b):\n",
    "    return a+b\n",
    "\n",
    "def multiply_output(addnum):\n",
    "    return 2*addnum\n",
    "\n",
    "def print_arguments(args):\n",
    "    print (f'Arguments are:{args}')\n",
    "    \n",
    "augmented_add_number = (add_numbers(3,4))\n",
    "x=augmented_add_number\n",
    "augmented_output=print_arguments(multiply_output(x))\n",
    "agmbt=augmented_output"
   ]
  },
  {
   "cell_type": "code",
   "execution_count": 7,
   "metadata": {},
   "outputs": [
    {
     "name": "stdout",
     "output_type": "stream",
     "text": [
      "Arguments are:20\n",
      "Arguments are:7\n"
     ]
    }
   ],
   "source": [
    "#Question 4A\n",
    "def multiply_by_two(x):\n",
    "    return x*2\n",
    "\n",
    "def add_number(a,b):\n",
    "    return a+b\n",
    "def print_arguments(args):\n",
    "    print (f'Arguments are:{args}')\n",
    "\n",
    "augmented_multiply_by_two = print_arguments(multiply_by_two(10))\n",
    "x=augmented_multiply_by_two\n",
    "\n",
    "augmented_add_number = print_arguments(add_number(3,4))\n",
    "x=augmented_add_number"
   ]
  },
  {
   "cell_type": "code",
   "execution_count": null,
   "metadata": {},
   "outputs": [],
   "source": []
  }
 ],
 "metadata": {
  "kernelspec": {
   "display_name": "Python 3",
   "language": "python",
   "name": "python3"
  },
  "language_info": {
   "codemirror_mode": {
    "name": "ipython",
    "version": 3
   },
   "file_extension": ".py",
   "mimetype": "text/x-python",
   "name": "python",
   "nbconvert_exporter": "python",
   "pygments_lexer": "ipython3",
   "version": "3.8.5"
  }
 },
 "nbformat": 4,
 "nbformat_minor": 4
}
